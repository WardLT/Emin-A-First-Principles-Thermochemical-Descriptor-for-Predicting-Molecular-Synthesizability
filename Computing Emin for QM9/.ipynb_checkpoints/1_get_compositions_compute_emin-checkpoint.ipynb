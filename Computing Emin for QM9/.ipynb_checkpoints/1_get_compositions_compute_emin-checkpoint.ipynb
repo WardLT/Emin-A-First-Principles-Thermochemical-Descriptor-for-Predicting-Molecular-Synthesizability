{
 "cells": [
  {
   "cell_type": "markdown",
   "id": "5a88f13d-d5b0-42f1-8ebb-d062a64466fe",
   "metadata": {},
   "source": [
    "# Compute Compositions\n",
    "Compute the composition of each molecule so that we can identify constitutional isomers. You will need to have downloaded the QM9 dataset in data/raw to run this script."
   ]
  },
  {
   "cell_type": "code",
   "execution_count": 1,
   "id": "c5e0d857-37fc-4f28-9b33-9620f1466251",
   "metadata": {},
   "outputs": [],
   "source": [
    "%matplotlib inline\n",
    "from matplotlib import pyplot as plt\n",
    "from pathlib import Path\n",
    "import pandas as pd\n",
    "import numpy as np"
   ]
  },
  {
   "cell_type": "markdown",
   "id": "6f5e0d41-9614-4347-b79a-43979a52a30f",
   "metadata": {},
   "source": [
    "## Load in the QM9 dataset\n",
    "We are going to use QM9 as our standard dataset for this analysis."
   ]
  },
  {
   "cell_type": "code",
   "execution_count": 2,
   "id": "2f6a064f-b4eb-481c-b940-498e08414e95",
   "metadata": {},
   "outputs": [
    {
     "name": "stdout",
     "output_type": "stream",
     "text": [
      "Read in a dataset of 130258 molecules\n"
     ]
    }
   ],
   "source": [
    "data = pd.read_json('data/raw/g4mp2_data.json.gz', lines=True)\n",
    "print(f'Read in a dataset of {len(data)} molecules')"
   ]
  },
  {
   "cell_type": "markdown",
   "id": "e2a49e7f-f825-48fa-ba64-a17866ea2b08",
   "metadata": {},
   "source": [
    "## Remove any duplicates"
   ]
  },
  {
   "cell_type": "code",
   "execution_count": 3,
   "id": "b5b1dd4a-dece-45e7-bf65-3e11f223efa6",
   "metadata": {},
   "outputs": [
    {
     "name": "stdout",
     "output_type": "stream",
     "text": [
      "Trimmed down to 126405 unique molecules\n"
     ]
    }
   ],
   "source": [
    "data.sort_values('g4mp2_0k', inplace=True, ascending=True) # sort lowest to highest energy\n",
    "data.drop_duplicates('inchi_0', inplace=True, keep='first') # keep the most stable duplicate\n",
    "print(f'Trimmed down to {len(data)} unique molecules')"
   ]
  },
  {
   "cell_type": "markdown",
   "id": "04565450-515a-488c-bbb8-559c75ab7e6d",
   "metadata": {},
   "source": [
    "## Compute the Chemical Composition\n",
    "Easily done, as this is the second field of the InChI string"
   ]
  },
  {
   "cell_type": "code",
   "execution_count": 4,
   "id": "ce080c65-3062-4a5d-8595-60a8a9ee50a7",
   "metadata": {},
   "outputs": [],
   "source": [
    "def get_composition(inchi: str):\n",
    "    \"\"\"Get the chemical composition from an InChI string\n",
    "    \n",
    "    Args:\n",
    "        inchi: InChI string\n",
    "    Returns:\n",
    "        Chemical formula\n",
    "    \"\"\"\n",
    "    return inchi.split(\"/\")[1]"
   ]
  },
  {
   "cell_type": "code",
   "execution_count": 5,
   "id": "e8617cda-f596-4d23-8d7c-c014eb874b7d",
   "metadata": {},
   "outputs": [],
   "source": [
    "data['formula'] = data.inchi_1.apply(get_composition)"
   ]
  },
  {
   "cell_type": "markdown",
   "id": "9548a7b2-605f-46d7-909e-e6c9d4f7785b",
   "metadata": {},
   "source": [
    "## Count how many stereoisomers we have\n",
    "Just to get an idea of how many we'll be able to assess"
   ]
  },
  {
   "cell_type": "code",
   "execution_count": 6,
   "id": "3761e7cb-0ddc-47aa-8e14-cb3e7da7d0c1",
   "metadata": {},
   "outputs": [
    {
     "name": "stdout",
     "output_type": "stream",
     "text": [
      "Found 697 unique formula out of 126405 molecules. Average of 181.4 per formula\n",
      "CPU times: user 39.1 ms, sys: 6.89 ms, total: 46 ms\n",
      "Wall time: 42.3 ms\n"
     ]
    }
   ],
   "source": [
    "%%time\n",
    "formula_counts = data.groupby('formula')['formula'].count()\n",
    "print(f'Found {len(formula_counts)} unique formula out of {len(data)} molecules. Average of {len(data)/len(formula_counts):.1f} per formula')"
   ]
  },
  {
   "cell_type": "markdown",
   "id": "16161dd2-6080-4170-963b-426595297033",
   "metadata": {},
   "source": [
    "## Print out counts for the 10 formulas with the most isomers"
   ]
  },
  {
   "cell_type": "code",
   "execution_count": 7,
   "id": "75b33b0c-bddc-428b-87ad-6eb1c9630707",
   "metadata": {},
   "outputs": [
    {
     "data": {
      "text/plain": [
       "formula\n",
       "C7H10O2    6080\n",
       "C7H11NO    5844\n",
       "C6H9NO2    5610\n",
       "C7H9NO     5172\n",
       "C8H12O     4898\n",
       "C7H12O2    4608\n",
       "C6H7NO2    3817\n",
       "C6H8N2O    3324\n",
       "C8H14O     3145\n",
       "C8H10O     3145\n",
       "Name: formula, dtype: int64"
      ]
     },
     "execution_count": 7,
     "metadata": {},
     "output_type": "execute_result"
    }
   ],
   "source": [
    "formula_counts.sort_values(ascending=False, inplace=True)\n",
    "formula_counts.head(10)"
   ]
  },
  {
   "cell_type": "markdown",
   "id": "0ce204ca-fb03-4f40-9d40-cfb06c3cd2c3",
   "metadata": {},
   "source": [
    "## Compute $E_{min}$ for each molecule\n",
    "Get the energy above the minimum energy isomer"
   ]
  },
  {
   "cell_type": "code",
   "execution_count": 8,
   "id": "4f6ebd76-d114-473e-8c44-9b4f36ecdce2",
   "metadata": {},
   "outputs": [],
   "source": [
    "data['Emin'] = 0 # initialize values"
   ]
  },
  {
   "cell_type": "code",
   "execution_count": 9,
   "id": "ab276bd7-c232-4924-bd19-f869aa77b762",
   "metadata": {},
   "outputs": [],
   "source": [
    "for gid, group in data.groupby('formula'):\n",
    "    data.loc[group.index, 'Emin'] = group['g4mp2_0k'] - group['g4mp2_0k'].min() # calculate the difference between an isomer's energy and the lowest energy among all isomers\n",
    "    data.loc[group.index,'isomers_in_formula'] = len(group)"
   ]
  },
  {
   "cell_type": "markdown",
   "id": "f8c4a766-ab13-46c2-843a-2e186efc909d",
   "metadata": {},
   "source": [
    "## Visualize some energy variations\n",
    "How different are the energies of these isomers"
   ]
  },
  {
   "cell_type": "code",
   "execution_count": 10,
   "id": "995fe164-bbdf-4de9-b021-b8299a528431",
   "metadata": {},
   "outputs": [
    {
     "data": {
      "image/png": "[encoded data removed]",
      "text/plain": [
       "<Figure size 432x288 with 1 Axes>"
      ]
     },
     "metadata": {
      "needs_background": "light"
     },
     "output_type": "display_data"
    }
   ],
   "source": [
    "fig, ax = plt.subplots()\n",
    "\n",
    "bins = np.linspace(0, 0.3, 64)\n",
    "spacing = 20\n",
    "for i, formula in enumerate(formula_counts[:5].index):\n",
    "    ax.hist(data.query(f'formula==\"{formula}\"')['Emin'], bins=bins, density=True, bottom=spacing*i)\n",
    "    \n",
    "ax.set_yticks(np.arange(5) * spacing + spacing / 2)\n",
    "ax.set_yticklabels(formula_counts[:5].index)\n",
    "\n",
    "ax.set_xlabel('Energy above min (Ha)')\n",
    "\n",
    "fig.tight_layout()"
   ]
  },
  {
   "cell_type": "markdown",
   "id": "69a28fd4-c1d2-4acd-9d82-c0dafad34785",
   "metadata": {},
   "source": [
    "We can see a pretty large energy difference between some isomers. A typical energy difference of 0.1 Ha for a 20 atom molecule is about 0.01 Ha/atom, or about 136 meV/atom - smaller than the [thermodynamic scale of instability of inorganic materials](https://www.science.org/doi/10.1126/sciadv.1600225)."
   ]
  },
  {
   "cell_type": "markdown",
   "id": "b0295b69-d76a-4692-b3e0-220aec5b726d",
   "metadata": {},
   "source": [
    "## Save the data\n",
    "We'll want that list of compositional isomers and the dataset with the energies above minimum"
   ]
  },
  {
   "cell_type": "code",
   "execution_count": 11,
   "id": "6e13c882-51cf-4c1c-9d60-c91f89089998",
   "metadata": {},
   "outputs": [],
   "source": [
    "cleaned_data = Path('./data/clean/')\n",
    "cleaned_data.mkdir(exist_ok=True)\n",
    "data.to_csv(cleaned_data / 'qm9.csv', index=False)\n",
    "formula_counts.rename(\"counts\").to_csv('formula_counts.csv')"
   ]
  }
 ],
 "metadata": {
  "interpreter": {
   "hash": "d97570bacec7fd5be4af27e1255edf48f45d2285fbfe7cdaecfe9946c7652b1c"
  },
  "kernelspec": {
   "display_name": "my-rdkit-env",
   "language": "python",
   "name": "my-rdkit-env"
  },
  "language_info": {
   "codemirror_mode": {
    "name": "ipython",
    "version": 3
   },
   "file_extension": ".py",
   "mimetype": "text/x-python",
   "name": "python",
   "nbconvert_exporter": "python",
   "pygments_lexer": "ipython3",
   "version": "3.7.13"
  }
 },
 "nbformat": 4,
 "nbformat_minor": 5
}
