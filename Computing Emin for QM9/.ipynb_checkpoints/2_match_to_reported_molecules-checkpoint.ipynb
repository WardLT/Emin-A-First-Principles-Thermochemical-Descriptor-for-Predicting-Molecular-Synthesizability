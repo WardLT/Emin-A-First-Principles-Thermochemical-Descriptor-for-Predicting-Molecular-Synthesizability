{
 "cells": [
  {
   "cell_type": "markdown",
   "id": "68510157-9398-4803-84fa-ce0932601b9a",
   "metadata": {},
   "source": [
    "# Match to Known Molecules\n",
    "The standard approach to assessing whether an inorganic material is synthesizable is to see if someone has made it and reported it in the literature. \n",
    "We emulate this process for inorganic molecules by seeing if each molecule is found in PubChem or the EMO dataset."
   ]
  },
  {
   "cell_type": "code",
   "execution_count": null,
   "id": "84913c21-7130-4183-890c-c337edccc5f9",
   "metadata": {},
   "outputs": [],
   "source": [
    "%matplotlib inline \n",
    "from matplotlib import pyplot as plt\n",
    "from multiprocessing import Pool\n",
    "from functools import partial\n",
    "from pathlib import Path\n",
    "from typing import List\n",
    "from rdkit import Chem\n",
    "from tqdm import tqdm\n",
    "import pandas as pd\n",
    "import numpy as np\n",
    "import gzip\n",
    "from rdkit import RDLogger\n",
    "RDLogger.DisableLog('rdApp.*')"
   ]
  },
  {
   "cell_type": "markdown",
   "id": "791cec40-8eea-4125-8a12-ae7360711e49",
   "metadata": {},
   "source": [
    "## Define location of experimental databases for cross referencing"
   ]
  },
  {
   "cell_type": "code",
   "execution_count": null,
   "id": "8f01546b-2f2a-4585-8d14-57d0a2c81146",
   "metadata": {},
   "outputs": [],
   "source": [
    "known_molecules = ['data/raw/PCH.csv.gz', 'data/raw/EMO.csv.gz']\n",
    "chunk_size = 1e6"
   ]
  },
  {
   "cell_type": "markdown",
   "id": "8862184c-929d-4df9-9e62-8a67a57d8b4b",
   "metadata": {},
   "source": [
    "## Load in the QM9 dataset\n",
    "It is a small dataset, so we're going to read it into memory"
   ]
  },
  {
   "cell_type": "code",
   "execution_count": null,
   "id": "3217ec83-8af5-4497-a427-6e88fa7bd624",
   "metadata": {},
   "outputs": [],
   "source": [
    "qm9_data = pd.read_csv('data/clean/qm9.csv')"
   ]
  },
  {
   "cell_type": "markdown",
   "id": "38e324fe-db42-4d47-8564-eb93de603d6b",
   "metadata": {},
   "source": [
    "## Make a lookup function\n",
    "We want to return if a QM9 molecule is found in a certain set of molecules. It will take in a list of SMILES strings (the format provided by NVBL) and return a list of matching indices"
   ]
  },
  {
   "cell_type": "code",
   "execution_count": null,
   "id": "7e852cff-d61d-487a-8c0c-9963d83c35c3",
   "metadata": {},
   "outputs": [],
   "source": [
    "def match(smiles, qm9_set, qm9_mols):\n",
    "    \"\"\"Get the index of a molecule in QM9\n",
    "    \n",
    "    Args:\n",
    "        mol - Molecule to match\n",
    "        qm9_set - Set of all molecules in QM9. Used to check for membership\n",
    "        qm9_mols - List of molecules in QM9. Used to get index\n",
    "    Returns:\n",
    "        Index of molecule, if exists. None otherwise\n",
    "    \"\"\"\n",
    "    # Convert the SMILES to InChI\n",
    "    try:\n",
    "        mol = Chem.MolFromSmiles(smiles)\n",
    "        if mol is None:\n",
    "            return None\n",
    "        inchi = Chem.MolToInchi(mol)\n",
    "    except:\n",
    "        return None\n",
    "    \n",
    "    # Check if it is in the list\n",
    "    if inchi in qm9_set:\n",
    "        # A hit is rare, so our unoptimized \"index\" function is OK\n",
    "        return qm9_mols.index(inchi)"
   ]
  },
  {
   "cell_type": "code",
   "execution_count": null,
   "id": "d72e8c0c-5dcf-499c-9aae-ee327a48d3fd",
   "metadata": {},
   "outputs": [],
   "source": [
    "def lookup_molecules(qm9_mols: List[str], chunk_mols: List[str]) -> List[int]:\n",
    "    \"\"\"Find if any QM9 molecules are contained in this chunk of molecules\n",
    "    \n",
    "    Args:\n",
    "        qm9_mols: List of InChI strings of the molecules from the QM9\n",
    "        chunk_mols: List of _SMILES_ strings of the molecules contained within QM9\n",
    "    Returns:\n",
    "        List of molecules that were matched\n",
    "    \"\"\"\n",
    "    \n",
    "    # Get a set for faster lookup\n",
    "    qm9_set = set(qm9_mols)\n",
    "    \n",
    "    # Make a lookup function \n",
    "    fun = partial(match, qm9_set=qm9_set, qm9_mols=qm9_mols)\n",
    "    with Pool() as p:\n",
    "        output = set(x for x in p.map(fun, chunk_mols) if x is not None)\n",
    "        \n",
    "    return list(output)"
   ]
  },
  {
   "cell_type": "markdown",
   "id": "75042ca4-e907-4fc9-8a8c-505f8f24b766",
   "metadata": {},
   "source": [
    "## Find QM9 molecules in the larger set\n",
    "Do it in chunks of $10^6$ molecules, which should fit in memory"
   ]
  },
  {
   "cell_type": "code",
   "execution_count": null,
   "id": "5de4124f-ff03-4a22-8361-d20e66a161ba",
   "metadata": {},
   "outputs": [],
   "source": [
    "qm9_mols = qm9_data['inchi_0'].tolist()"
   ]
  },
  {
   "cell_type": "code",
   "execution_count": null,
   "id": "c4e0d53b-4a60-4a45-b363-f2f1e4e35e5b",
   "metadata": {},
   "outputs": [],
   "source": [
    "for path in known_molecules:    \n",
    "    # Get a name for the dataset\n",
    "    name = Path(path).name[:3]\n",
    "\n",
    "    # Initialize the list of molecules found and chunk\n",
    "    chunk = []\n",
    "    found = set()\n",
    "    with gzip.open(path, 'rt') as fp:\n",
    "        for line in tqdm(fp, desc=name):\n",
    "            # Get the SMILES string from that line\n",
    "            try:\n",
    "                _, _, smiles = line.strip().split(\",\", 3)\n",
    "            except:\n",
    "                continue \n",
    "            chunk.append(smiles)\n",
    "\n",
    "            if len(chunk) > chunk_size:\n",
    "                # Run the computation\n",
    "                found_chunk = lookup_molecules(qm9_mols, chunk)\n",
    "                found.update(found_chunk)\n",
    "                chunk.clear()\n",
    "\n",
    "        # Run the calculation on the last chunk\n",
    "        found.update(lookup_molecules(qm9_mols, chunk))\n",
    "        \n",
    "    # Store them in a row of the dataframe\n",
    "    qm9_data[f'in_{name}'] = False\n",
    "    if len(found) > 0:\n",
    "        qm9_data.loc[list(found), f'in_{name}'] = True"
   ]
  },
  {
   "cell_type": "markdown",
   "id": "cead587c-193b-4805-8e09-efcc1e3bc41e",
   "metadata": {},
   "source": [
    "Print out what fraction of QM9 we matched"
   ]
  },
  {
   "cell_type": "code",
   "execution_count": null,
   "id": "532655c6-40e5-450f-999c-c39455eb0cd5",
   "metadata": {},
   "outputs": [],
   "source": [
    "qm9_data.iloc[:, -len(known_molecules):].mean()"
   ]
  },
  {
   "cell_type": "markdown",
   "id": "30aba409-b2b5-4b7f-98eb-a311313b5ed7",
   "metadata": {},
   "source": [
    "## add reported flag"
   ]
  },
  {
   "cell_type": "code",
   "execution_count": null,
   "id": "ddb5de6c-3e18-43e8-bf6b-859646e6f827",
   "metadata": {},
   "outputs": [],
   "source": [
    "reported = ((qm9_data['in_PCH']) | (qm9_data['in_EMO'])) # in pubchem (PCH) or EMO\n",
    "\n",
    "qm9_data['Reported'] = reported"
   ]
  },
  {
   "cell_type": "markdown",
   "id": "a05ca7d5-320c-4cfc-99b4-82f0fd0b987c",
   "metadata": {},
   "source": [
    "## Save results to disk\n",
    "Overwrite the clean copy of the data"
   ]
  },
  {
   "cell_type": "code",
   "execution_count": null,
   "id": "d3cd8f1f-22cc-4241-bcf3-217e163b82ff",
   "metadata": {},
   "outputs": [],
   "source": [
    "qm9_data.to_csv('data/clean/qm9.csv', index=False)"
   ]
  }
 ],
 "metadata": {
  "kernelspec": {
   "display_name": "my-rdkit-env",
   "language": "python",
   "name": "my-rdkit-env"
  },
  "language_info": {
   "codemirror_mode": {
    "name": "ipython",
    "version": 3
   },
   "file_extension": ".py",
   "mimetype": "text/x-python",
   "name": "python",
   "nbconvert_exporter": "python",
   "pygments_lexer": "ipython3",
   "version": "3.7.13"
  }
 },
 "nbformat": 4,
 "nbformat_minor": 5
}
