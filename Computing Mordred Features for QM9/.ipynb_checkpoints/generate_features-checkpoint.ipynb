{
 "cells": [
  {
   "cell_type": "code",
   "execution_count": null,
   "metadata": {},
   "outputs": [],
   "source": [
    "import os\n",
    "os.environ['OPENBLAS_NUM_THREADS'] = '1'\n",
    "from mordred import Calculator, descriptors\n",
    "import pandas as pd\n",
    "import numpy as np\n",
    "import matplotlib.pyplot as plt\n",
    "from rdkit import Chem\n",
    "from tqdm import tqdm"
   ]
  },
  {
   "cell_type": "markdown",
   "metadata": {},
   "source": [
    "# read in qm9 data"
   ]
  },
  {
   "cell_type": "code",
   "execution_count": null,
   "metadata": {},
   "outputs": [],
   "source": [
    "data = pd.read_csv('../Computing Emin for QM9/data/clean/qm9.csv')"
   ]
  },
  {
   "cell_type": "markdown",
   "metadata": {},
   "source": [
    "# get rdkit molecule objects and calculate Mordred descriptors"
   ]
  },
  {
   "cell_type": "code",
   "execution_count": null,
   "metadata": {},
   "outputs": [],
   "source": [
    "data['mol'] = data['smiles_1'].apply(Chem.MolFromSmiles)\n",
    "data = data[data['mol'].to_numpy() != None]\n",
    "\n",
    "flag_3D = False \n",
    "calc = Calculator(descriptors, ignore_3D=flag_3D)\n",
    "descriptors = calc.pandas(data['mol'])"
   ]
  },
  {
   "cell_type": "markdown",
   "metadata": {},
   "source": [
    "# add back Emin and other scores to feature list"
   ]
  },
  {
   "cell_type": "code",
   "execution_count": null,
   "metadata": {},
   "outputs": [],
   "source": [
    "columns_to_keep = ['Emin','smiles_1 sa_score','smiles_1 sc_score','smiles_1 syba_score','smiles_1 ra_score']\n",
    "\n",
    "# add some zpe features\n",
    "                   \n",
    "zpe_to_u = data['zpe']/data['Emin']\n",
    "data['zpe_to_u'] = zpe_to_u\n",
    "columns_to_keep += ['zpe','zpe_to_u']\n",
    "                   \n",
    "descriptors = pd.concat([descriptors,data[columns_to_keep]],axis=1)\n",
    "print(f'We begin with {descriptors.shape[1]} features.')"
   ]
  },
  {
   "cell_type": "markdown",
   "metadata": {},
   "source": [
    "# remove features with ANY NaNs"
   ]
  },
  {
   "cell_type": "code",
   "execution_count": null,
   "metadata": {},
   "outputs": [],
   "source": [
    "for c in tqdm(descriptors.columns):\n",
    "    descriptors[c] = pd.to_numeric(descriptors[c],errors='coerce')\n",
    "\n",
    "# print number of NaNs\n",
    "missing_values_bools = descriptors.isnull().any(axis=0).to_numpy()\n",
    "keep_feature_names = descriptors.columns[~missing_values_bools]\n",
    "\n",
    "# grab non-NaN columns\n",
    "desc = descriptors[keep_feature_names]  # Gets only columns that do not (~ means not) have missing values\n",
    "print(f'Removed {missing_values_bools.sum()} NaN-containing features (now there are {desc.shape[1]} features).')\n"
   ]
  },
  {
   "cell_type": "markdown",
   "metadata": {},
   "source": [
    "# remove features that have zero variation"
   ]
  },
  {
   "cell_type": "code",
   "execution_count": null,
   "metadata": {},
   "outputs": [],
   "source": [
    "feature_stats = descriptors.describe().transpose()\n",
    "\n",
    "# identify feature names with no feature variation (std = 0)\n",
    "keep_features_names = feature_stats.query('std != 0').transpose().columns\n",
    "\n",
    "# get the actual features that I want to keep\n",
    "keep_features = descriptors[keep_features_names]\n",
    "\n",
    "print(f'Removed {len(feature_stats)-keep_features.shape[1]} useless features (now there are {keep_features.shape[1]} features).')"
   ]
  },
  {
   "cell_type": "markdown",
   "metadata": {},
   "source": [
    "# remove highly correlated features"
   ]
  },
  {
   "cell_type": "code",
   "execution_count": null,
   "metadata": {},
   "outputs": [],
   "source": [
    "pairwise_correlations = keep_features.corr().to_numpy()\n",
    "\n",
    "threshold = 0.90 # correlation threshold above which a feature will be removed\n",
    "\n",
    "indices_to_remove = []\n",
    "for i in tqdm(range(len(pairwise_correlations))):\n",
    "    feature_correlations = pairwise_correlations[i]\n",
    "    high_correlation = np.argwhere(feature_correlations > threshold).flatten() # this will double count correlations below the diagonal\n",
    "    feature_index_to_remove = high_correlation[i+1:] # prevents double counting and removing both features that are highly correlated with one another\n",
    "    indices_to_remove += [feature_index_to_remove]\n",
    "\n",
    "indices_to_remove = np.unique(np.concatenate(indices_to_remove))\n",
    "all_indices = np.arange(len(pairwise_correlations))\n",
    "indices_to_keep = all_indices[~np.isin(all_indices,indices_to_remove)]\n",
    "\n",
    "keep_features = keep_features.iloc[:,indices_to_keep]\n",
    "\n",
    "print(f'Removed {len(indices_to_remove)} highly correlated features (now there are {keep_features.shape[1]} features).')"
   ]
  },
  {
   "cell_type": "markdown",
   "metadata": {},
   "source": [
    "# Save features to csv"
   ]
  },
  {
   "cell_type": "code",
   "execution_count": null,
   "metadata": {},
   "outputs": [],
   "source": [
    "if flag_3D == True: feature_3D = '_3D'\n",
    "else: feature_3D = ''\n",
    "\n",
    "keep_features['Reported'] = data['Reported'] # add back reported label\n",
    "keep_features['smiles_1'] = data['smiles_1'] # add back smiles strings\n",
    "keep_features.to_csv(f'qm9_mordred{feature_3D}.csv',index=False)\n"
   ]
  }
 ],
 "metadata": {
  "kernelspec": {
   "display_name": "my-rdkit-env",
   "language": "python",
   "name": "my-rdkit-env"
  },
  "language_info": {
   "codemirror_mode": {
    "name": "ipython",
    "version": 3
   },
   "file_extension": ".py",
   "mimetype": "text/x-python",
   "name": "python",
   "nbconvert_exporter": "python",
   "pygments_lexer": "ipython3",
   "version": "3.7.13"
  }
 },
 "nbformat": 4,
 "nbformat_minor": 4
}
