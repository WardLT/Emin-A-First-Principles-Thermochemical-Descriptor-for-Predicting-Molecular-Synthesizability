{
 "cells": [
  {
   "cell_type": "markdown",
   "metadata": {},
   "source": [
    "# Generate ra scores for qm9 molecules"
   ]
  },
  {
   "cell_type": "code",
   "execution_count": null,
   "metadata": {},
   "outputs": [],
   "source": [
    "import pandas as pd\n",
    "from sa_sc_syba_score_parallel import *\n",
    "%matplotlib inline\n",
    "import multiprocessing\n",
    "from RAscore import RAscore_XGB #For XGB based models"
   ]
  },
  {
   "cell_type": "markdown",
   "metadata": {},
   "source": [
    "## initialize ra model"
   ]
  },
  {
   "cell_type": "code",
   "execution_count": null,
   "metadata": {},
   "outputs": [],
   "source": [
    "xgb_scorer = RAscore_XGB.RAScorerXGB()"
   ]
  },
  {
   "cell_type": "markdown",
   "metadata": {
    "tags": []
   },
   "source": [
    "## Read cleaned qm9 data"
   ]
  },
  {
   "cell_type": "code",
   "execution_count": null,
   "metadata": {},
   "outputs": [],
   "source": [
    "qm9_filepath = '../Computing Emin for QM9/data/clean/qm9.csv'\n",
    "mol_data = pd.read_csv(qm9_filepath)"
   ]
  },
  {
   "cell_type": "markdown",
   "metadata": {},
   "source": [
    "## Calculate Syba scores into mol_data dataframe and overwrite cleaned qm9 data file\n"
   ]
  },
  {
   "cell_type": "code",
   "execution_count": null,
   "metadata": {},
   "outputs": [],
   "source": [
    "def get_ra_score(smile_string,ra):\n",
    "    try:\n",
    "        ra_score = ra.predict(smile_string)\n",
    "        return ra_score\n",
    "    except:\n",
    "        return 'ERROR'"
   ]
  },
  {
   "cell_type": "code",
   "execution_count": null,
   "metadata": {},
   "outputs": [],
   "source": [
    "%%time\n",
    "smiles = mol_data['smiles_1']\n",
    "\n",
    "ra_scores = smiles.apply(get_ra_score,ra=xgb_scorer)\n",
    "\n",
    "mol_data['smiles_1 ra_score'] = ra_scores\n",
    "\n",
    "mol_data.to_csv(qm9_filepath)"
   ]
  }
 ],
 "metadata": {
  "interpreter": {
   "hash": "d97570bacec7fd5be4af27e1255edf48f45d2285fbfe7cdaecfe9946c7652b1c"
  },
  "kernelspec": {
   "display_name": "my-rdkit-env",
   "language": "python",
   "name": "my-rdkit-env"
  },
  "language_info": {
   "codemirror_mode": {
    "name": "ipython",
    "version": 3
   },
   "file_extension": ".py",
   "mimetype": "text/x-python",
   "name": "python",
   "nbconvert_exporter": "python",
   "pygments_lexer": "ipython3",
   "version": "3.7.13"
  }
 },
 "nbformat": 4,
 "nbformat_minor": 4
}
