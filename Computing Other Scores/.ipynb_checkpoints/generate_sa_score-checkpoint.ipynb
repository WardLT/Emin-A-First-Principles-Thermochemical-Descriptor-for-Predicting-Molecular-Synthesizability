{
 "cells": [
  {
   "cell_type": "markdown",
   "metadata": {},
   "source": [
    "# Generate SA scores for qm9 molecules"
   ]
  },
  {
   "cell_type": "code",
   "execution_count": null,
   "metadata": {},
   "outputs": [],
   "source": [
    "import numpy as np\n",
    "import pandas as pd\n",
    "from p_tqdm import p_map\n",
    "from sa_sc_syba_score_parallel import *\n",
    "import multiprocessing\n",
    "%matplotlib inline"
   ]
  },
  {
   "cell_type": "markdown",
   "metadata": {},
   "source": [
    "## Read cleaned qm9 data"
   ]
  },
  {
   "cell_type": "code",
   "execution_count": null,
   "metadata": {},
   "outputs": [],
   "source": [
    "qm9_filepath = '../Computing Emin for QM9/data/clean/qm9.csv'\n",
    "mol_data = pd.read_csv(qm9_filepath)\n",
    "os.makedirs('sa_score_sublists',exist_ok=True)"
   ]
  },
  {
   "cell_type": "markdown",
   "metadata": {},
   "source": [
    "## Define SA score from smiles string function"
   ]
  },
  {
   "cell_type": "code",
   "execution_count": null,
   "metadata": {},
   "outputs": [],
   "source": [
    "def parallelize_dataframe(df,func,n_splits=100,n_cores=multiprocessing.cpu_count()):\n",
    "    # taken from https://towardsdatascience.com/make-your-own-super-pandas-using-multiproc-1c04f41944a1\n",
    "\n",
    "    df_split = list(zip(np.array_split(df,n_splits),range(n_splits)))\n",
    "    p_map(func,df_split,num_cpus = n_cores)"
   ]
  },
  {
   "cell_type": "markdown",
   "metadata": {},
   "source": [
    "## Calculate SA scores into mol_data dataframe and overwrite cleaned qm9 data file"
   ]
  },
  {
   "cell_type": "code",
   "execution_count": null,
   "metadata": {},
   "outputs": [],
   "source": [
    "parallelize_dataframe(mol_data['smiles_1'],parallel_apply_sa_score)\n",
    "mol_data['smiles_1 sa_score'] = np.concatenate([np.genfromtxt(f'sa_score_sublists/sa_score_{i}.txt',dtype=str) for i in range(100)])\n",
    "mol_data.to_csv(qm9_filepath)"
   ]
  }
 ],
 "metadata": {
  "interpreter": {
   "hash": "d97570bacec7fd5be4af27e1255edf48f45d2285fbfe7cdaecfe9946c7652b1c"
  },
  "kernelspec": {
   "display_name": "my-rdkit-env",
   "language": "python",
   "name": "my-rdkit-env"
  },
  "language_info": {
   "codemirror_mode": {
    "name": "ipython",
    "version": 3
   },
   "file_extension": ".py",
   "mimetype": "text/x-python",
   "name": "python",
   "nbconvert_exporter": "python",
   "pygments_lexer": "ipython3",
   "version": "3.7.13"
  }
 },
 "nbformat": 4,
 "nbformat_minor": 4
}
