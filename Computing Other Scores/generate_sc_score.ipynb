{
 "cells": [
  {
   "cell_type": "markdown",
   "metadata": {},
   "source": [
    "# Generate SC scores for qm9 molecules"
   ]
  },
  {
   "cell_type": "code",
   "execution_count": 6,
   "metadata": {},
   "outputs": [],
   "source": [
    "import numpy as np\n",
    "import pandas as pd\n",
    "from p_tqdm import p_map\n",
    "from sa_sc_syba_score_parallel import *\n",
    "%matplotlib inline"
   ]
  },
  {
   "cell_type": "markdown",
   "metadata": {},
   "source": [
    "## Read cleaned qm9 data"
   ]
  },
  {
   "cell_type": "code",
   "execution_count": 7,
   "metadata": {},
   "outputs": [],
   "source": [
    "qm9_filepath = '../Computing Emin for QM9/data/clean/qm9.csv'\n",
    "mol_data = pd.read_csv(qm9_filepath)\n",
    "os.makedirs('sc_score_sublists',exist_ok=True)"
   ]
  },
  {
   "cell_type": "code",
   "execution_count": 8,
   "metadata": {},
   "outputs": [],
   "source": [
    "def parallelize_dataframe(df,func,n_splits=100,n_cores=4):\n",
    "    # taken from https://towardsdatascience.com/make-your-own-super-pandas-using-multiproc-1c04f41944a1\n",
    "    model = SCScorePrecursorPrioritizer()\n",
    "    model.load_model(model_tag='1024bool')\n",
    "    df_split = list(zip(np.array_split(df,n_splits),range(n_splits),[model]*n_splits))\n",
    "    p_map(func,df_split,num_cpus = n_cores)"
   ]
  },
  {
   "cell_type": "markdown",
   "metadata": {},
   "source": [
    "## Calculate SC scores into mol_data dataframe and overwrite cleaned qm9 data"
   ]
  },
  {
   "cell_type": "code",
   "execution_count": null,
   "metadata": {},
   "outputs": [],
   "source": [
    "parallelize_dataframe(mol_data['smiles_1'],parallel_apply_sc_score,n_cores=4)\n",
    "mol_data['smiles_1 sc_score'] = np.concatenate([np.loadtxt(f'sc_score_sublists/sc_score_{i}.txt') for i in range(100)])\n",
    "mol_data.to_csv(qm9_filepath)"
   ]
  }
 ],
 "metadata": {
  "interpreter": {
   "hash": "d97570bacec7fd5be4af27e1255edf48f45d2285fbfe7cdaecfe9946c7652b1c"
  },
  "kernelspec": {
   "display_name": "my-rdkit-env",
   "language": "python",
   "name": "my-rdkit-env"
  },
  "language_info": {
   "codemirror_mode": {
    "name": "ipython",
    "version": 3
   },
   "file_extension": ".py",
   "mimetype": "text/x-python",
   "name": "python",
   "nbconvert_exporter": "python",
   "pygments_lexer": "ipython3",
   "version": "3.7.13"
  }
 },
 "nbformat": 4,
 "nbformat_minor": 4
}
