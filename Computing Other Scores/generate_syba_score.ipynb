{
 "cells": [
  {
   "cell_type": "markdown",
   "metadata": {},
   "source": [
    "# Generate syba scores for qm9 molecules"
   ]
  },
  {
   "cell_type": "code",
   "execution_count": 1,
   "metadata": {},
   "outputs": [],
   "source": [
    "import pandas as pd\n",
    "%matplotlib inline\n",
    "import multiprocessing\n",
    "from syba.syba import SybaClassifier"
   ]
  },
  {
   "cell_type": "markdown",
   "metadata": {},
   "source": [
    "## initialize syba model"
   ]
  },
  {
   "cell_type": "code",
   "execution_count": 2,
   "metadata": {},
   "outputs": [],
   "source": [
    "syba = SybaClassifier()\n",
    "syba.fitDefaultScore()"
   ]
  },
  {
   "cell_type": "markdown",
   "metadata": {
    "tags": []
   },
   "source": [
    "## Read cleaned qm9 data"
   ]
  },
  {
   "cell_type": "code",
   "execution_count": 3,
   "metadata": {},
   "outputs": [],
   "source": [
    "qm9_filepath = '../Computing Emin for QM9/data/clean/qm9.csv'\n",
    "mol_data = pd.read_csv(qm9_filepath)"
   ]
  },
  {
   "cell_type": "markdown",
   "metadata": {},
   "source": [
    "## Calculate Syba scores into mol_data dataframe and overwrite cleaned qm9 data\n"
   ]
  },
  {
   "cell_type": "code",
   "execution_count": 4,
   "metadata": {},
   "outputs": [],
   "source": [
    "def get_syba_score(smile_string,syba):\n",
    "    try:\n",
    "        syba_score = syba.predict(smile_string)\n",
    "        return syba_score\n",
    "    except:\n",
    "        return 'ERROR'\n",
    "    try:\n",
    "        mol = Chem.MolFromSmiles(smi)\n",
    "        syba_score = syba.predict(mol=mol)\n",
    "        return syba_score\n",
    "    except:\n",
    "        return 'ERROR'"
   ]
  },
  {
   "cell_type": "code",
   "execution_count": null,
   "metadata": {},
   "outputs": [],
   "source": [
    "%%time\n",
    "\n",
    "smiles = mol_data['smiles_1']\n",
    "syba_scores = smiles.apply(get_syba_score,syba=syba)\n",
    "\n",
    "mol_data['smiles_1 syba_score'] = syba_scores\n",
    "\n",
    "mol_data.to_csv(qm9_filepath,index=False)"
   ]
  }
 ],
 "metadata": {
  "interpreter": {
   "hash": "d97570bacec7fd5be4af27e1255edf48f45d2285fbfe7cdaecfe9946c7652b1c"
  },
  "kernelspec": {
   "display_name": "my-rdkit-env",
   "language": "python",
   "name": "my-rdkit-env"
  },
  "language_info": {
   "codemirror_mode": {
    "name": "ipython",
    "version": 3
   },
   "file_extension": ".py",
   "mimetype": "text/x-python",
   "name": "python",
   "nbconvert_exporter": "python",
   "pygments_lexer": "ipython3",
   "version": "3.7.13"
  }
 },
 "nbformat": 4,
 "nbformat_minor": 4
}
