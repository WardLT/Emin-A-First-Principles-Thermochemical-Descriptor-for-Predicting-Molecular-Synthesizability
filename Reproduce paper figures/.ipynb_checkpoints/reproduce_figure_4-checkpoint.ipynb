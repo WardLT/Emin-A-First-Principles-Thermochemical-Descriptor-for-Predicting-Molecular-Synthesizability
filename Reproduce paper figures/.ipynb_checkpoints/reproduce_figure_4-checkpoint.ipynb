{
 "cells": [
  {
   "cell_type": "code",
   "execution_count": 14,
   "id": "ac250f84-926f-41fc-a9f5-787197a6be6f",
   "metadata": {},
   "outputs": [],
   "source": [
    "import pandas as pd\n",
    "import numpy as np\n",
    "import matplotlib.pyplot as plt\n",
    "from tqdm import tqdm"
   ]
  },
  {
   "cell_type": "markdown",
   "id": "6586eb58-9bd2-45ca-924f-65e81e0cce5f",
   "metadata": {},
   "source": [
    "# define some helper functions first"
   ]
  },
  {
   "cell_type": "code",
   "execution_count": null,
   "id": "fa51f4be-637f-4ef8-b091-f58798ea0734",
   "metadata": {},
   "outputs": [],
   "source": [
    "def remove_outliers(series,percentile):\n",
    "    lower_bound = series.quantile(percentile)\n",
    "    upper_bound = series.quantile(1-percentile)\n",
    "\n",
    "    return series[(series > lower_bound) & (series < upper_bound)]\n",
    "\n",
    "def get_accuracies(ground_truth, prediction_value, c):\n",
    "                   \n",
    "    ground_truth = 1*ground_truth # change bools to numbers\n",
    "    prediction = 1*(prediction_value <= c)\n",
    "\n",
    "    # count false positives\n",
    "    fp = np.sum((ground_truth == 0) & (prediction == 1))\n",
    "\n",
    "    # find false negatives\n",
    "    fn = np.sum((ground_truth == 1) & (prediction == 0))\n",
    "\n",
    "    # find true positives\n",
    "    tp = np.sum((ground_truth == 1) & (prediction == 1))\n",
    "\n",
    "    # find true negatives\n",
    "    tn = np.sum((ground_truth == 0) & (prediction == 0))\n",
    "\n",
    "    precision = tp / (tp + fp)\n",
    "    recall = tp / (tp + fn)\n",
    "\n",
    "    return precision, recall, tp, tn, fp, fn\n",
    "\n",
    "def get_AUC(ground_truth, prediction_value,min_prediction_score,max_prediction_score,plot=False): # higher = less synthesizable\n",
    "    \n",
    "    tp_list = []\n",
    "    tn_list = []\n",
    "    fp_list = []\n",
    "    fn_list = []\n",
    "\n",
    "    cutoffs = np.linspace(min_prediction_score,max_prediction_score,100)\n",
    "\n",
    "    for c in cutoffs:\n",
    "    \n",
    "        precision, recall, tp, tn, fp, fn = get_accuracies(ground_truth, prediction_value, c)\n",
    "\n",
    "        tp_list += [tp]\n",
    "        tn_list += [tn]\n",
    "        fp_list += [fp]\n",
    "        fn_list += [fn]\n",
    "\n",
    "    tp = np.array(tp_list)\n",
    "    tn = np.array(tn_list)\n",
    "    fp = np.array(fp_list)\n",
    "    fn = np.array(fn_list)\n",
    "        \n",
    "    TPR = tp/(tp+fn)\n",
    "    FPR = fp/(fp+tn)\n",
    "\n",
    "    AUC = np.abs(np.trapz(TPR,FPR))\n",
    "    \n",
    "    if plot==True:\n",
    "        plt.scatter(FPR,TPR)\n",
    "        plt.show()\n",
    "\n",
    "    return AUC"
   ]
  },
  {
   "cell_type": "markdown",
   "id": "33b0fc57-23b2-4745-ad1c-d5ffd396557d",
   "metadata": {},
   "source": [
    "# read in data"
   ]
  },
  {
   "cell_type": "code",
   "execution_count": 15,
   "id": "77952164-a8ae-4cfb-aa2d-3681f22d7cb8",
   "metadata": {},
   "outputs": [],
   "source": [
    "data = pd.read_csv('../Computing Emin for QM9/data/clean/qm9.csv',usecols=['smiles_1 sa_score','Emin','Reported'])\n",
    "\n",
    "ground_truth = data['Reported']\n",
    "data = data[data['smiles_1 sa_score'] != 'ERROR']\n",
    "\n",
    "data['smiles_1 sa_score'] = data['smiles_1 sa_score'].astype(float)\n",
    "\n",
    "prediction = data['smiles_1 sa_score']\n",
    "\n",
    "\n",
    "sa_score_min = prediction.min()\n",
    "sa_score_max = prediction.max()"
   ]
  },
  {
   "cell_type": "markdown",
   "id": "68f973fe-5755-4e97-9620-806638602479",
   "metadata": {},
   "source": [
    "# plot Emin AUC for all misclassified datapoints at varying SA Score cutoffs"
   ]
  },
  {
   "cell_type": "code",
   "execution_count": 16,
   "id": "aeded6aa-0079-47d5-a457-fb56a66dbab6",
   "metadata": {},
   "outputs": [
    {
     "name": "stderr",
     "output_type": "stream",
     "text": [
      "100%|██████████| 30/30 [00:07<00:00,  3.82it/s]\n"
     ]
    }
   ],
   "source": [
    "sa_score_cutoffs = [prediction.quantile(p) for p in np.linspace(0.1,0.9,30)]\n",
    "n_misclassified = []\n",
    "Emin_AUC_list = []\n",
    "\n",
    "\n",
    "for cutoff in tqdm(sa_score_cutoffs):\n",
    "    incorrect_reported = data.query(f'Reported == True & `smiles_1 sa_score` >= {cutoff}') # actually reported but SA score says unsynthesizable\n",
    "    incorrect_unreported = data.query(f'Reported == False & `smiles_1 sa_score` < {cutoff}') # actually unreported but SA score says synthesizable\n",
    "    incorrect = pd.concat([incorrect_reported,incorrect_unreported])\n",
    "    \n",
    "    n_misclassified += [len(incorrect)]\n",
    "    Emin_AUC_list += [get_AUC(incorrect['Reported'], incorrect['Emin'],0,2)]\n",
    "#     print(f'There are {len(incorrect_reported) + len(incorrect_unreported)} molecules which SA score predicts incorrect synthesizabilities.')\n",
    "#     print(f'{len(incorrect_reported)} are actually reported')\n",
    "#     print(f'{len(incorrect_unreported)} are actually unreported')\n",
    "#     print(f\"SA Score AUC for incorrectly predicted compounds is {get_AUC(incorrect['Reported'], incorrect['smiles_1 sa_score'],1,10)}\")\n",
    "#     print(f\"Emin AUC for incorrectly predicted compounds is {get_AUC(incorrect['Reported'], incorrect['Emin'],0,2)}\")"
   ]
  },
  {
   "cell_type": "code",
   "execution_count": 17,
   "id": "95cd4d8e-44c2-411d-b683-b6b158ab8ad7",
   "metadata": {},
   "outputs": [
    {
     "data": {
      "text/plain": [
       "Text(0.5, 0, 'SA Score Cutoff (< cutoff = synthesizable)')"
      ]
     },
     "execution_count": 17,
     "metadata": {},
     "output_type": "execute_result"
    },
    {
     "data": {
      "image/png": "[encoded data removed]",
      "text/plain": [
       "<Figure size 252x180 with 1 Axes>"
      ]
     },
     "metadata": {
      "needs_background": "light"
     },
     "output_type": "display_data"
    }
   ],
   "source": [
    "plt.figure(figsize=(3.5,2.5))\n",
    "\n",
    "plt.plot(sa_score_cutoffs,Emin_AUC_list,color='blue',label=r'$E_{min}$ AUC')\n",
    "plt.ylabel(r'$E_{min}$ AUC')\n",
    "plt.xlabel('SA Score Cutoff (< cutoff = synthesizable)')"
   ]
  },
  {
   "cell_type": "markdown",
   "id": "e53a70e8-800c-4fd5-942b-6ca819fde1d7",
   "metadata": {},
   "source": [
    "# plot Emin distributions when SA Score cutoff = recall of 0.5"
   ]
  },
  {
   "cell_type": "code",
   "execution_count": 18,
   "id": "9b4d2680-a8df-4688-81ac-9a8a6e898570",
   "metadata": {},
   "outputs": [
    {
     "data": {
      "text/plain": [
       "([], [])"
      ]
     },
     "execution_count": 18,
     "metadata": {},
     "output_type": "execute_result"
    },
    {
     "data": {
      "image/png": "[encoded data removed]",
      "text/plain": [
       "<Figure size 252x180 with 1 Axes>"
      ]
     },
     "metadata": {
      "needs_background": "light"
     },
     "output_type": "display_data"
    }
   ],
   "source": [
    "percentile = 0.5\n",
    "sa_score_reported_median = data.query('Reported == True')['smiles_1 sa_score'].quantile(percentile)\n",
    "\n",
    "incorrect_reported = data.query(f'Reported == True & `smiles_1 sa_score` >= {sa_score_reported_median}') # actually reported but SA score says unsynthesizable\n",
    "incorrect_unreported = data.query(f'Reported == False & `smiles_1 sa_score` < {sa_score_reported_median}') # actually unreported but SA score says synthesizable\n",
    "\n",
    "plt.figure(figsize=(3.5,2.5))\n",
    "plt.hist(remove_outliers(incorrect_reported['Emin'],0.05),label='Reported',bins=100,density=True,alpha=0.3)\n",
    "plt.hist(remove_outliers(incorrect_unreported['Emin'],0.05),label='Unreported',bins=100,density=True,alpha=0.3)\n",
    "plt.legend(loc='best')\n",
    "plt.xlabel(r'$E_{min}$')\n",
    "plt.ylabel('Probability Density')\n",
    "plt.yticks([])"
   ]
  },
  {
   "cell_type": "markdown",
   "id": "9b067510-38c8-43d0-afc9-b032c22d70e0",
   "metadata": {},
   "source": [
    "# plot Emin distributions when SA Score cutoff = recall of 0.5"
   ]
  },
  {
   "cell_type": "code",
   "execution_count": 19,
   "id": "efdf071d-b291-4e6e-b360-2c6dafa84100",
   "metadata": {},
   "outputs": [
    {
     "data": {
      "text/plain": [
       "([], [])"
      ]
     },
     "execution_count": 19,
     "metadata": {},
     "output_type": "execute_result"
    },
    {
     "data": {
      "image/png": "[encoded data removed]",
      "text/plain": [
       "<Figure size 252x180 with 1 Axes>"
      ]
     },
     "metadata": {
      "needs_background": "light"
     },
     "output_type": "display_data"
    }
   ],
   "source": [
    "plt.figure(figsize=(3.5,2.5))\n",
    "plt.hist(remove_outliers(incorrect_reported['smiles_1 sa_score'],0.05),label='Reported',bins=100,density=True,alpha=0.3)\n",
    "plt.hist(remove_outliers(incorrect_unreported['smiles_1 sa_score'],0.05),label='Unreported',bins=100,density=True,alpha=0.3)\n",
    "plt.legend()\n",
    "plt.xlabel('SA Score')\n",
    "plt.ylabel('Probability Density')\n",
    "plt.yticks([])"
   ]
  }
 ],
 "metadata": {
  "kernelspec": {
   "display_name": "my-rdkit-env",
   "language": "python",
   "name": "my-rdkit-env"
  },
  "language_info": {
   "codemirror_mode": {
    "name": "ipython",
    "version": 3
   },
   "file_extension": ".py",
   "mimetype": "text/x-python",
   "name": "python",
   "nbconvert_exporter": "python",
   "pygments_lexer": "ipython3",
   "version": "3.7.13"
  }
 },
 "nbformat": 4,
 "nbformat_minor": 5
}
