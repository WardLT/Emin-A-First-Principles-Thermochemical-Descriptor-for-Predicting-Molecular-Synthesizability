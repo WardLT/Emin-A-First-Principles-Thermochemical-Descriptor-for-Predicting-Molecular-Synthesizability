{
 "cells": [
  {
   "cell_type": "code",
   "execution_count": 13,
   "id": "abe547a7-9644-40a5-a2da-a444ecf9dd8d",
   "metadata": {},
   "outputs": [],
   "source": [
    "import numpy as np\n",
    "import pandas as pd\n",
    "from sklearn.linear_model import LogisticRegression\n",
    "from sklearn.metrics import roc_curve, RocCurveDisplay, precision_recall_curve, auc\n",
    "import matplotlib.pyplot as plt\n",
    "from sklearn.model_selection import KFold\n",
    "from tqdm import tqdm"
   ]
  },
  {
   "cell_type": "markdown",
   "id": "fe10510a-627c-479b-8dba-21a4738b5040",
   "metadata": {},
   "source": [
    "# Read in data"
   ]
  },
  {
   "cell_type": "code",
   "execution_count": 9,
   "id": "4d12053a-4931-4352-9506-2123d083d11f",
   "metadata": {},
   "outputs": [
    {
     "name": "stderr",
     "output_type": "stream",
     "text": [
      "/home/andrewlee1030/.conda/envs/my-rdkit-env/lib/python3.7/site-packages/IPython/core/interactiveshell.py:3457: DtypeWarning: Columns (820,822,823) have mixed types.Specify dtype option on import or set low_memory=False.\n",
      "  exec(code_obj, self.user_global_ns, self.user_ns)\n"
     ]
    }
   ],
   "source": [
    "data = pd.read_csv(f'../machine_learning/mordred_qm9/qm9_features_mordred_SMILES_1.csv')\n",
    "data = data[data['smiles_1 sa_score'] != 'ERROR'] # remove error entries"
   ]
  },
  {
   "cell_type": "markdown",
   "id": "46bc5310-f58d-4fba-9868-fa782e56f265",
   "metadata": {},
   "source": [
    "# Define function to get ROC AUC of logistic regression"
   ]
  },
  {
   "cell_type": "code",
   "execution_count": 18,
   "id": "4ce5cc6b-3ce3-4ca6-98d0-897a5f7db990",
   "metadata": {},
   "outputs": [],
   "source": [
    "def get_ROC_AUC(feature_names,print_stats=True):\n",
    "    roc_values = []\n",
    "    coef_values = []\n",
    "    \n",
    "    all_test = []\n",
    "    all_predict = []\n",
    "    \n",
    "    feature_values = data[feature_names].to_numpy()\n",
    "    labels = data['Reported'].to_numpy().astype(int)\n",
    "    \n",
    "    n_folds = 10\n",
    "    \n",
    "    kf = KFold(n_splits=n_folds,shuffle=True,random_state=1)\n",
    "    \n",
    "    \n",
    "    for i, (train_index, test_index) in tqdm(enumerate(kf.split(feature_values)),desc=f'{feature_names} Folds'):\n",
    "        train_features, train_labels = feature_values[train_index], labels[train_index]\n",
    "        test_features, test_labels = feature_values[test_index], labels[test_index]\n",
    "        \n",
    "    \n",
    "        model = LogisticRegression(n_jobs=-1)\n",
    "        model.fit(train_features,train_labels)\n",
    "        predictions = model.predict_proba(test_features)\n",
    "        \n",
    "        all_test += [test_labels]\n",
    "        all_predict += [predictions[:,1]]\n",
    "        \n",
    "        fpr, tpr, thresholds = roc_curve(test_labels, predictions[:,1])\n",
    "        roc_auc = auc(fpr, tpr)\n",
    "        \n",
    "        roc_values += [roc_auc]\n",
    "        coef_values += [model.coef_]\n",
    "\n",
    "    \n",
    "    mean_roc = np.mean(roc_values)\n",
    "    std_roc = np.std(roc_values)\n",
    "    mean_coeff = np.mean(coef_values,axis=0)\n",
    "    std_coeff = np.std(coef_values,axis=0)\n",
    "    \n",
    "\n",
    "    # compute precision and recall\n",
    "    \n",
    "    \n",
    "    precision, recall, thresholds = precision_recall_curve(np.concatenate(all_test),np.concatenate(all_predict))\n",
    "    \n",
    "    # set a target recall\n",
    "    \n",
    "    recall_target = 0.5\n",
    "    \n",
    "    distance_from_target = np.abs(recall - recall_target)\n",
    "    index_min_distance_from_target = np.argmin(distance_from_target)\n",
    "    \n",
    "    recall = recall[index_min_distance_from_target-1:index_min_distance_from_target+1]\n",
    "    precision = precision[index_min_distance_from_target-1:index_min_distance_from_target+1]\n",
    "    \n",
    "    \n",
    "    if print_stats == True:\n",
    "        print(f'For feature names {feature_names}')\n",
    "        print(f'The mean ROC AUC is {mean_roc}')\n",
    "        print(f'The std dev ROC AUC is {std_roc}')\n",
    "        print(f'The mean coefficients are {mean_coeff}')\n",
    "        print(f'The std dev coefficients are {std_coeff}')\n",
    "\n",
    "    return mean_roc, std_roc, mean_coeff, std_coeff, precision, recall, thresholds\n",
    "\n"
   ]
  },
  {
   "cell_type": "code",
   "execution_count": 19,
   "id": "81d0f29b-ae02-4588-8d6e-f1115fed9233",
   "metadata": {},
   "outputs": [],
   "source": [
    "feature_names_list = ['g4mp2_above_min','smiles_1 sa_score','smiles_1 sc_score','smiles_1 ra_score','smiles_1 syba_score']\n"
   ]
  },
  {
   "cell_type": "code",
   "execution_count": 22,
   "id": "d60e4f2d-0af1-4c9e-80be-c99e1157c507",
   "metadata": {},
   "outputs": [
    {
     "name": "stderr",
     "output_type": "stream",
     "text": [
      "['g4mp2_above_min'] Folds: 10it [00:07,  1.35it/s]\n"
     ]
    },
    {
     "name": "stdout",
     "output_type": "stream",
     "text": [
      "For feature names ['g4mp2_above_min']\n",
      "The mean ROC AUC is 0.8419197321612721\n",
      "The std dev ROC AUC is 0.0034653919440633552\n",
      "The mean coefficients are [[-39.28544725]]\n",
      "The std dev coefficients are [[0.0742375]]\n",
      "[0.67872747 0.67871285 0.67874374 0.67872912 0.67871449 0.67869987] [0.50006706 0.50003353 0.50003353 0.5        0.49996647 0.49993294]\n"
     ]
    },
    {
     "name": "stderr",
     "output_type": "stream",
     "text": [
      "['g4mp2_above_min', 'g4mp2_above_min'] Folds: 10it [00:08,  1.22it/s]\n"
     ]
    },
    {
     "name": "stdout",
     "output_type": "stream",
     "text": [
      "For feature names ['g4mp2_above_min', 'g4mp2_above_min']\n",
      "The mean ROC AUC is 0.8419197321612721\n",
      "The std dev ROC AUC is 0.0034653919440633552\n",
      "The mean coefficients are [[-20.42771503 -20.42771503]]\n",
      "The std dev coefficients are [[0.0404189 0.0404189]]\n",
      "[0.67872747 0.67871285 0.67874374 0.67872912 0.67871449 0.67869987] [0.50006706 0.50003353 0.50003353 0.5        0.49996647 0.49993294]\n"
     ]
    },
    {
     "name": "stderr",
     "output_type": "stream",
     "text": [
      "['smiles_1 sa_score'] Folds: 10it [00:07,  1.28it/s]\n"
     ]
    },
    {
     "name": "stdout",
     "output_type": "stream",
     "text": [
      "For feature names ['smiles_1 sa_score']\n",
      "The mean ROC AUC is 0.88835780325496\n",
      "The std dev ROC AUC is 0.002325344579935834\n",
      "The mean coefficients are [[-2.25759427]]\n",
      "The std dev coefficients are [[0.00425708]]\n",
      "[0.75502455 0.75501215 0.75499975 0.75498734 0.75502557 0.75501317] [0.5001006  0.50006706 0.50003353 0.5        0.5        0.49996647]\n"
     ]
    },
    {
     "name": "stderr",
     "output_type": "stream",
     "text": [
      "['smiles_1 sa_score', 'g4mp2_above_min'] Folds: 10it [00:10,  1.09s/it]\n"
     ]
    },
    {
     "name": "stdout",
     "output_type": "stream",
     "text": [
      "For feature names ['smiles_1 sa_score', 'g4mp2_above_min']\n",
      "The mean ROC AUC is 0.910550686304717\n",
      "The std dev ROC AUC is 0.0014481110938918806\n",
      "The mean coefficients are [[ -1.89047849 -24.7129745 ]]\n",
      "The std dev coefficients are [[0.00546085 0.11717246]]\n",
      "[0.82502628 0.8250166  0.82500692 0.82499723 0.82504288 0.82508853] [0.5001006  0.50006706 0.50003353 0.5        0.5        0.5       ]\n"
     ]
    },
    {
     "name": "stderr",
     "output_type": "stream",
     "text": [
      "['smiles_1 sc_score'] Folds: 10it [00:04,  2.28it/s]\n"
     ]
    },
    {
     "name": "stdout",
     "output_type": "stream",
     "text": [
      "For feature names ['smiles_1 sc_score']\n",
      "The mean ROC AUC is 0.6483632637842071\n",
      "The std dev ROC AUC is 0.006163052231359871\n",
      "The mean coefficients are [[-1.73009886]]\n",
      "The std dev coefficients are [[0.00809657]]\n",
      "[0.35643091 0.35643943 0.35644795 0.35643257 0.35644109 0.35644961] [0.50003353 0.50003353 0.50003353 0.5        0.5        0.5       ]\n"
     ]
    },
    {
     "name": "stderr",
     "output_type": "stream",
     "text": [
      "['smiles_1 sc_score', 'g4mp2_above_min'] Folds: 10it [00:09,  1.06it/s]\n"
     ]
    },
    {
     "name": "stdout",
     "output_type": "stream",
     "text": [
      "For feature names ['smiles_1 sc_score', 'g4mp2_above_min']\n",
      "The mean ROC AUC is 0.8543894147988507\n",
      "The std dev ROC AUC is 0.003280940641378941\n",
      "The mean coefficients are [[ -1.45311367 -38.45692123]]\n",
      "The std dev coefficients are [[0.00999687 0.06467077]]\n",
      "[0.692197   0.69222913 0.69226127 0.69224698 0.69227912 0.69231126] [0.50003353 0.50003353 0.50003353 0.5        0.5        0.5       ]\n"
     ]
    },
    {
     "name": "stderr",
     "output_type": "stream",
     "text": [
      "['smiles_1 ra_score'] Folds: 10it [00:02,  4.68it/s]\n"
     ]
    },
    {
     "name": "stdout",
     "output_type": "stream",
     "text": [
      "For feature names ['smiles_1 ra_score']\n",
      "The mean ROC AUC is 0.8070373543584657\n",
      "The std dev ROC AUC is 0.003836980847997598\n",
      "The mean coefficients are [[9.00564064]]\n",
      "The std dev coefficients are [[0.03864358]]\n",
      "[0.55043738 0.5504577  0.55044111 0.55042451 0.55040791 0.55039132] [0.50006706 0.50006706 0.50003353 0.5        0.49996647 0.49993294]\n"
     ]
    },
    {
     "name": "stderr",
     "output_type": "stream",
     "text": [
      "['smiles_1 ra_score', 'g4mp2_above_min'] Folds: 10it [00:08,  1.19it/s]\n"
     ]
    },
    {
     "name": "stdout",
     "output_type": "stream",
     "text": [
      "For feature names ['smiles_1 ra_score', 'g4mp2_above_min']\n",
      "The mean ROC AUC is 0.8778911321195866\n",
      "The std dev ROC AUC is 0.0022915677435138447\n",
      "The mean coefficients are [[  6.8004573  -33.44137032]]\n",
      "The std dev coefficients are [[0.04129499 0.08807094]]\n",
      "[0.73205695 0.73209289 0.73212883 0.73211568 0.73210252 0.73208937] [0.50003353 0.50003353 0.50003353 0.5        0.49996647 0.49993294]\n"
     ]
    },
    {
     "name": "stderr",
     "output_type": "stream",
     "text": [
      "['smiles_1 syba_score'] Folds: 10it [00:02,  3.79it/s]\n"
     ]
    },
    {
     "name": "stdout",
     "output_type": "stream",
     "text": [
      "For feature names ['smiles_1 syba_score']\n",
      "The mean ROC AUC is 0.8176904115645011\n",
      "The std dev ROC AUC is 0.0036157380866182797\n",
      "The mean coefficients are [[0.07262708]]\n",
      "The std dev coefficients are [[0.00015579]]\n",
      "[0.62825968 0.62828615 0.62827049 0.62825482 0.6282813  0.62830777] [0.50006706 0.50006706 0.50003353 0.5        0.5        0.5       ]\n"
     ]
    },
    {
     "name": "stderr",
     "output_type": "stream",
     "text": [
      "['smiles_1 syba_score', 'g4mp2_above_min'] Folds: 10it [00:09,  1.02it/s]"
     ]
    },
    {
     "name": "stdout",
     "output_type": "stream",
     "text": [
      "For feature names ['smiles_1 syba_score', 'g4mp2_above_min']\n",
      "The mean ROC AUC is 0.8970157717681086\n",
      "The std dev ROC AUC is 0.001365301188746595\n",
      "The mean coefficients are [[  0.06144838 -34.39281839]]\n",
      "The std dev coefficients are [[0.00017296 0.08571059]]\n",
      "[0.76593559 0.76597493 0.76601428 0.76600226 0.76604161 0.76602959] [0.50003353 0.50003353 0.50003353 0.5        0.5        0.49996647]\n"
     ]
    },
    {
     "name": "stderr",
     "output_type": "stream",
     "text": [
      "\n"
     ]
    }
   ],
   "source": [
    "feature_names_list = ['g4mp2_above_min','smiles_1 sa_score','smiles_1 sc_score','smiles_1 ra_score','smiles_1 syba_score']\n",
    "\n",
    "for feature_names in feature_names_list:\n",
    "    mean_roc, std_roc, mean_coeff, std_coeff, precision, recall, thresholds = get_ROC_AUC([feature_names])\n",
    "    print(precision, recall)\n",
    "    mean_roc, std_roc, mean_coeff, std_coeff, precision, recall, thresholds = get_ROC_AUC([feature_names,'g4mp2_above_min'])\n",
    "    print(precision, recall)\n"
   ]
  },
  {
   "cell_type": "markdown",
   "id": "95946a7c-1409-4089-8e89-fbb59d637f87",
   "metadata": {},
   "source": [
    "# vary training set size "
   ]
  },
  {
   "cell_type": "code",
   "execution_count": 22,
   "id": "daaf28b8-73a9-4bd1-8314-4608752ee489",
   "metadata": {},
   "outputs": [],
   "source": [
    "from collections import defaultdict\n",
    "from sklearn.model_selection import train_test_split\n",
    "\n",
    "\n",
    "def get_subsampled_train_val_roc_auc(feature_names):\n",
    "\n",
    "    n_train_sizes = [50,250,1250,6250,31250,100000]\n",
    "    n_trials = 30\n",
    "    \n",
    "    feature_values = data[feature_names].to_numpy()\n",
    "    labels = data['Reported'].to_numpy().astype(int)\n",
    "\n",
    "    results = defaultdict(list)\n",
    "    for n_train_size in n_train_sizes:\n",
    "        trial_accuracies = []\n",
    "        for trial in range(n_trials):\n",
    "            X_train, X_test, y_train, y_test = train_test_split(feature_values, labels, train_size = n_train_size, stratify=labels, random_state=trial)\n",
    "            model = LogisticRegression(n_jobs=-1)\n",
    "            model.fit(X_train,y_train)\n",
    "            predictions = model.predict_proba(X_test)\n",
    "            fpr, tpr, thresholds = roc_curve(y_test, predictions[:,1])\n",
    "            roc_auc = auc(fpr, tpr)\n",
    "            trial_accuracies += [roc_auc]\n",
    "        \n",
    "        results[f'{feature_names} {n_train_size} mean'] += [np.mean(trial_accuracies)]\n",
    "        results[f'{feature_names} {n_train_size} std'] += [np.std(trial_accuracies)]\n",
    "    return results\n",
    "            "
   ]
  },
  {
   "cell_type": "code",
   "execution_count": 23,
   "id": "d59762b3-1d49-4680-a265-f9e3d62819fe",
   "metadata": {},
   "outputs": [
    {
     "name": "stdout",
     "output_type": "stream",
     "text": [
      "defaultdict(<class 'list'>, {'50 mean': [0.8419091633207749], '50 std': [2.6445528991379074e-05], '250 mean': [0.8419222693980459], '250 std': [6.927197285888112e-05], '1250 mean': [0.8419570813555878], '1250 std': [0.0001358618754090205], '6250 mean': [0.8418936520955917], '6250 std': [0.00022674458954047045], '31250 mean': [0.8420561614983514], '31250 std': [0.0008315784702030514], '100000 mean': [0.8417169836005608], '100000 std': [0.002530050388333317]})\n",
      "defaultdict(<class 'list'>, {'50 mean': [0.8419091633207749], '50 std': [2.6445528991379074e-05], '250 mean': [0.8419222693980459], '250 std': [6.927197285888112e-05], '1250 mean': [0.8419570813555878], '1250 std': [0.0001358618754090205], '6250 mean': [0.8418936520955917], '6250 std': [0.00022674458954047045], '31250 mean': [0.8420561614983514], '31250 std': [0.0008315784702030514], '100000 mean': [0.8417169836005608], '100000 std': [0.002530050388333317]})\n"
     ]
    }
   ],
   "source": [
    "for feature_names in feature_names_list[:1]:\n",
    "    print(get_subsampled_train_val_roc_auc([feature_names]))\n",
    "    print(get_subsampled_train_val_roc_auc([feature_names,'g4mp2_above_min']))"
   ]
  }
 ],
 "metadata": {
  "kernelspec": {
   "display_name": "my-rdkit-env",
   "language": "python",
   "name": "my-rdkit-env"
  },
  "language_info": {
   "codemirror_mode": {
    "name": "ipython",
    "version": 3
   },
   "file_extension": ".py",
   "mimetype": "text/x-python",
   "name": "python",
   "nbconvert_exporter": "python",
   "pygments_lexer": "ipython3",
   "version": "3.7.13"
  }
 },
 "nbformat": 4,
 "nbformat_minor": 5
}
