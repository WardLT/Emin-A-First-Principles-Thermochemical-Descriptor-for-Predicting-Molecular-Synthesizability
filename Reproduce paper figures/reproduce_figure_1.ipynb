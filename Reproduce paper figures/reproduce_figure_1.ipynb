{
 "cells": [
  {
   "cell_type": "code",
   "execution_count": 1,
   "id": "3cb0c870-1926-4c12-a142-714ea0005ca2",
   "metadata": {},
   "outputs": [],
   "source": [
    "import pandas as pd\n",
    "import matplotlib.pyplot as plt\n",
    "import numpy as np"
   ]
  },
  {
   "cell_type": "markdown",
   "id": "377303d6-fbfc-4275-bff1-d1aa89ec23f8",
   "metadata": {},
   "source": [
    "# import data"
   ]
  },
  {
   "cell_type": "code",
   "execution_count": 9,
   "id": "37933584-a9d1-41bd-a27b-2ce3b2414098",
   "metadata": {},
   "outputs": [],
   "source": [
    "data = pd.read_csv('../Computing Mordred Features for QM9/qm9_mordred.csv',usecols=['Reported','nHeavyAtom'])"
   ]
  },
  {
   "cell_type": "markdown",
   "id": "f127469d-f722-497c-9582-ae62a7735bd9",
   "metadata": {},
   "source": [
    "# Check distribution of entries w.r.t # of heavy atoms"
   ]
  },
  {
   "cell_type": "code",
   "execution_count": 10,
   "id": "ba1098b7-bc34-4d3b-9492-e184fb4e9462",
   "metadata": {},
   "outputs": [
    {
     "data": {
      "text/plain": [
       "<matplotlib.legend.Legend at 0x7fccf6db8390>"
      ]
     },
     "execution_count": 10,
     "metadata": {},
     "output_type": "execute_result"
    },
    {
     "data": {
      "image/png": "[encoded data removed]",
      "text/plain": [
       "<Figure size 252x180 with 1 Axes>"
      ]
     },
     "metadata": {
      "needs_background": "light"
     },
     "output_type": "display_data"
    }
   ],
   "source": [
    "# plot histogram of the number of atoms in QM9 for reported and unreported entries\n",
    "\n",
    "reported = data.query('Reported == True')\n",
    "unreported = data.query('Reported == False')\n",
    "\n",
    "n_atoms_reported = reported['nHeavyAtom'].to_numpy()\n",
    "n_atoms_unreported = unreported['nHeavyAtom'].to_numpy()\n",
    "\n",
    "plt.figure(figsize=(3.5,2.5))\n",
    "freq, bins, patches = plt.hist([n_atoms_reported,n_atoms_unreported],label=['Reported','Unreported'],bins=range(1,11),align='left')\n",
    "plt.xticks(range(1,10))\n",
    "plt.xlabel('Number of Heavy Atoms')\n",
    "plt.ylabel('Count')\n",
    "plt.yscale('log')\n",
    "plt.legend()"
   ]
  }
 ],
 "metadata": {
  "kernelspec": {
   "display_name": "my-rdkit-env",
   "language": "python",
   "name": "my-rdkit-env"
  },
  "language_info": {
   "codemirror_mode": {
    "name": "ipython",
    "version": 3
   },
   "file_extension": ".py",
   "mimetype": "text/x-python",
   "name": "python",
   "nbconvert_exporter": "python",
   "pygments_lexer": "ipython3",
   "version": "3.7.13"
  }
 },
 "nbformat": 4,
 "nbformat_minor": 5
}
