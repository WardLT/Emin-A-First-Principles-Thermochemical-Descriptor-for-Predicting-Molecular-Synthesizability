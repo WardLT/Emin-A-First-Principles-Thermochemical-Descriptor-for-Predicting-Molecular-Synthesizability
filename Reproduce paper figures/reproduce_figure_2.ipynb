{
 "cells": [
  {
   "cell_type": "markdown",
   "id": "313e2c9f-aae4-4d96-a5d7-4351677123cd",
   "metadata": {},
   "source": [
    "# Compare $E_{min}$ values between reported and unreported molecules\n"
   ]
  },
  {
   "cell_type": "code",
   "execution_count": 1,
   "id": "ec6ba8fa-7e5a-40e7-a851-a341205135f7",
   "metadata": {},
   "outputs": [],
   "source": [
    "%matplotlib inline\n",
    "from matplotlib import pyplot as plt\n",
    "import pandas as pd\n",
    "import numpy as np"
   ]
  },
  {
   "cell_type": "markdown",
   "id": "ca1d51a8-a93b-462d-bcd2-d1bbca7c8751",
   "metadata": {},
   "source": [
    "## Load in the data\n",
    "Get the list of most-common chemical formulas and the QM9 dataset after we match it to PubChem"
   ]
  },
  {
   "cell_type": "code",
   "execution_count": 3,
   "id": "42d31885-04d1-4518-8752-d7e302e5b4bc",
   "metadata": {},
   "outputs": [
    {
     "name": "stdout",
     "output_type": "stream",
     "text": [
      "Loaded a list of 697 chemical formulas\n"
     ]
    }
   ],
   "source": [
    "formula_counts = pd.read_csv('../Computing Emin for QM9/formula_counts.csv')\n",
    "print(f'Loaded a list of {len(formula_counts)} chemical formulas')"
   ]
  },
  {
   "cell_type": "code",
   "execution_count": 5,
   "id": "c8376afd-dbeb-48cd-94fb-c0f60faede96",
   "metadata": {},
   "outputs": [
    {
     "name": "stdout",
     "output_type": "stream",
     "text": [
      "Loaded QM9 data.\n"
     ]
    }
   ],
   "source": [
    "qm9_data = pd.read_csv('../Computing Emin for QM9/data/clean/qm9.csv')\n",
    "print(f'Loaded QM9 data.')"
   ]
  },
  {
   "cell_type": "markdown",
   "id": "831b253d",
   "metadata": {},
   "source": [
    "# Match formula/isomer counts to each entry"
   ]
  },
  {
   "cell_type": "code",
   "execution_count": 6,
   "id": "77ba75cf",
   "metadata": {},
   "outputs": [],
   "source": [
    "# initialize isomer counts\n",
    "qm9_data['Isomer Count'] = [0]*len(qm9_data)\n",
    "\n",
    "# match isomer counts with formulas\n",
    "for i,row in formula_counts.iterrows():\n",
    "    formula = row['formula']\n",
    "    n_isomers = row['counts']   \n",
    "    matches = qm9_data.query(f'formula==\"{formula}\"')\n",
    "    qm9_data.loc[matches.index,'Isomer Count'] = n_isomers\n"
   ]
  },
  {
   "cell_type": "markdown",
   "id": "ac2c880d-9762-4955-9856-018b0b8e06ee",
   "metadata": {},
   "source": [
    "## Plot the energy of \"reported\" and \"unreported\" molecules for a few formulas"
   ]
  },
  {
   "cell_type": "code",
   "execution_count": 8,
   "id": "5b505d8a-1fa2-4e2e-9be7-4a0d678d5c3c",
   "metadata": {},
   "outputs": [
    {
     "data": {
      "image/png": "[encoded data removed]",
      "text/plain": [
       "<Figure size 432x288 with 1 Axes>"
      ]
     },
     "metadata": {
      "needs_background": "light"
     },
     "output_type": "display_data"
    }
   ],
   "source": [
    "fig, ax = plt.subplots()\n",
    "\n",
    "bins = np.linspace(0, 0.20, 64)\n",
    "spacing = 2.1\n",
    "\n",
    "ax.set_xlim(bins.min(), bins.max())\n",
    "for i, formula in enumerate(formula_counts[:5]['formula']):\n",
    "    # Get the isomers with this formula\n",
    "    all_formula = qm9_data.query(f'formula==\"{formula}\"')\n",
    "    reported = all_formula.query('Reported')\n",
    "    unreported = all_formula.query('not Reported')\n",
    "    \n",
    "    # Plot the reported columns going up\n",
    "    counts, edges = np.histogram(reported['Emin'], bins=bins)\n",
    "    ax.bar(edges[:-1], counts / counts.max(), bottom=spacing*i + spacing/2, align='edge',  width=bins[1], color='crimson')\n",
    "    \n",
    "    # Plot the unreported columns going down\n",
    "    counts, edges = np.histogram(unreported['Emin'], bins=bins)\n",
    "    ax.bar(edges[:-1], -counts / counts.max(), bottom=spacing*i + spacing/2, align='edge', width=bins[1], color='gray')\n",
    "    #ax.hist(qm9_data.query(f'formula==\"{formula}\"')['g4mp2_above_min'], bins=bins, density=True, bottom=spacing*i)\n",
    "    \n",
    "    ax.plot(ax.get_xlim(), [spacing*i + spacing/2]*2, 'k--', lw=0.75)\n",
    "    \n",
    "# Make a legend\n",
    "ax.bar([0], [0], color='crimson', label='Reported')\n",
    "ax.bar([0], [0], color='gray', label='Unreported')\n",
    "ax.legend()\n",
    "\n",
    "ax.set_yticks(np.arange(5) * spacing + spacing / 2)\n",
    "ax.set_yticklabels(formula_counts[:5]['formula'])\n",
    "\n",
    "ax.set_xlabel(r'$E_{min}$ (Ha)')\n",
    "\n",
    "fig.tight_layout()"
   ]
  },
  {
   "cell_type": "markdown",
   "id": "6dd7acd3-9993-40a5-89d3-225b7afacdc8",
   "metadata": {},
   "source": [
    "# Evaluate the distribution of energies above the ground state\n"
   ]
  },
  {
   "cell_type": "code",
   "execution_count": 10,
   "id": "5f30610f-058c-4969-9b3c-c9abcf705201",
   "metadata": {},
   "outputs": [
    {
     "data": {
      "text/plain": [
       "Text(0, 0.5, 'Count')"
      ]
     },
     "execution_count": 10,
     "metadata": {},
     "output_type": "execute_result"
    },
    {
     "data": {
      "image/png": "[encoded data removed]",
      "text/plain": [
       "<Figure size 432x288 with 1 Axes>"
      ]
     },
     "metadata": {
      "needs_background": "light"
     },
     "output_type": "display_data"
    }
   ],
   "source": [
    "fig, ax = plt.subplots()\n",
    "\n",
    "all_reported = qm9_data.query('Reported')\n",
    "all_unreported = qm9_data.query('not Reported')\n",
    "\n",
    "bins = np.linspace(0, 0.3, 128)\n",
    "ax.hist(all_reported['Emin'], bins=bins, color='crimson', label='Reported',alpha=0.5)\n",
    "ax.hist(all_unreported['Emin'], bins=bins, color='gray', label='Unreported',alpha=0.5)\n",
    "ax.legend()\n",
    "\n",
    "ax.set_xlabel(r'$E_{min}$ (Ha)')\n",
    "ax.set_ylabel('Count')\n"
   ]
  }
 ],
 "metadata": {
  "interpreter": {
   "hash": "2a2ce6feceabe16081239645c3ccff6386a8ef75e380f6aa10f5bd5dbcbdf266"
  },
  "kernelspec": {
   "display_name": "Python 3 (ipykernel)",
   "language": "python",
   "name": "python3"
  },
  "language_info": {
   "codemirror_mode": {
    "name": "ipython",
    "version": 3
   },
   "file_extension": ".py",
   "mimetype": "text/x-python",
   "name": "python",
   "nbconvert_exporter": "python",
   "pygments_lexer": "ipython3",
   "version": "3.7.4"
  }
 },
 "nbformat": 4,
 "nbformat_minor": 5
}
