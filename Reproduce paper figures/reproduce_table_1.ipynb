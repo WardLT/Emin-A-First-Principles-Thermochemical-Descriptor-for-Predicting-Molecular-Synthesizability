{
 "cells": [
  {
   "cell_type": "code",
   "execution_count": 2,
   "id": "abe547a7-9644-40a5-a2da-a444ecf9dd8d",
   "metadata": {},
   "outputs": [],
   "source": [
    "import numpy as np\n",
    "import pandas as pd\n",
    "from sklearn.linear_model import LogisticRegression\n",
    "from sklearn.metrics import roc_curve, RocCurveDisplay, precision_recall_curve, auc\n",
    "import matplotlib.pyplot as plt\n",
    "from sklearn.model_selection import KFold\n",
    "from tqdm import tqdm"
   ]
  },
  {
   "cell_type": "markdown",
   "id": "fe10510a-627c-479b-8dba-21a4738b5040",
   "metadata": {},
   "source": [
    "# Read in data"
   ]
  },
  {
   "cell_type": "code",
   "execution_count": 19,
   "id": "4d12053a-4931-4352-9506-2123d083d11f",
   "metadata": {},
   "outputs": [],
   "source": [
    "feature_names_list = ['Emin','smiles_1 sa_score','smiles_1 sc_score','smiles_1 ra_score','smiles_1 syba_score']\n",
    "data = pd.read_csv(f'../Computing Mordred Features for QM9/qm9_mordred.csv',usecols=feature_names_list + ['Reported'])\n",
    "data = data[data['smiles_1 sa_score'] != 'ERROR'] # remove error entries"
   ]
  },
  {
   "cell_type": "markdown",
   "id": "46bc5310-f58d-4fba-9868-fa782e56f265",
   "metadata": {},
   "source": [
    "# Define function to get ROC AUC of logistic regression"
   ]
  },
  {
   "cell_type": "code",
   "execution_count": 21,
   "id": "4ce5cc6b-3ce3-4ca6-98d0-897a5f7db990",
   "metadata": {},
   "outputs": [],
   "source": [
    "def get_ROC_AUC(feature_names,print_stats=True):\n",
    "    roc_values = []\n",
    "    coef_values = []\n",
    "    \n",
    "    all_test = []\n",
    "    all_predict = []\n",
    "    \n",
    "    feature_values = data[feature_names].to_numpy()\n",
    "    labels = data['Reported'].to_numpy().astype(int)\n",
    "    \n",
    "    n_folds = 10\n",
    "    \n",
    "    kf = KFold(n_splits=n_folds,shuffle=True,random_state=1)\n",
    "    \n",
    "    \n",
    "    for i, (train_index, test_index) in tqdm(enumerate(kf.split(feature_values)),desc=f'{feature_names} Folds'):\n",
    "        train_features, train_labels = feature_values[train_index], labels[train_index]\n",
    "        test_features, test_labels = feature_values[test_index], labels[test_index]\n",
    "        \n",
    "    \n",
    "        model = LogisticRegression(n_jobs=-1)\n",
    "        model.fit(train_features,train_labels)\n",
    "        predictions = model.predict_proba(test_features)\n",
    "        \n",
    "        all_test += [test_labels]\n",
    "        all_predict += [predictions[:,1]]\n",
    "        \n",
    "        fpr, tpr, thresholds = roc_curve(test_labels, predictions[:,1])\n",
    "        roc_auc = auc(fpr, tpr)\n",
    "        \n",
    "        roc_values += [roc_auc]\n",
    "        coef_values += [model.coef_]\n",
    "\n",
    "    \n",
    "    mean_roc = np.mean(roc_values)\n",
    "    std_roc = np.std(roc_values)\n",
    "    mean_coeff = np.mean(coef_values,axis=0)\n",
    "    std_coeff = np.std(coef_values,axis=0)\n",
    "    \n",
    "\n",
    "    # compute precision and recall\n",
    "    \n",
    "    \n",
    "    precision, recall, thresholds = precision_recall_curve(np.concatenate(all_test),np.concatenate(all_predict))\n",
    "    \n",
    "    # set a target recall\n",
    "    \n",
    "    recall_target = 0.5\n",
    "    \n",
    "    distance_from_target = np.abs(recall - recall_target)\n",
    "    index_min_distance_from_target = np.argmin(distance_from_target)\n",
    "    \n",
    "    recall = recall[index_min_distance_from_target-1:index_min_distance_from_target+1]\n",
    "    precision = precision[index_min_distance_from_target-1:index_min_distance_from_target+1]\n",
    "    \n",
    "    \n",
    "    if print_stats == True:\n",
    "        print(f'For feature names {feature_names}')\n",
    "        print(f'The mean ROC AUC is {mean_roc}')\n",
    "        print(f'The std dev ROC AUC is {std_roc}')\n",
    "        print(f'The mean coefficients are {mean_coeff}')\n",
    "        print(f'The std dev coefficients are {std_coeff}')\n",
    "\n",
    "    return mean_roc, std_roc, mean_coeff, std_coeff, precision, recall, thresholds\n",
    "\n"
   ]
  },
  {
   "cell_type": "code",
   "execution_count": 25,
   "id": "1575022b-1d42-40ff-b922-51cb4e76148d",
   "metadata": {},
   "outputs": [
    {
     "name": "stderr",
     "output_type": "stream",
     "text": [
      "['Emin'] Folds: 10it [00:01,  5.31it/s]\n"
     ]
    },
    {
     "name": "stdout",
     "output_type": "stream",
     "text": [
      "For feature names ['Emin']\n",
      "The mean ROC AUC is 0.8428462808518387\n",
      "The std dev ROC AUC is 0.0028288749692470584\n",
      "The mean coefficients are [[-39.32889261]]\n",
      "The std dev coefficients are [[0.06954774]]\n",
      "[0.68252298 0.68250846] [0.50001675 0.49998325]\n"
     ]
    },
    {
     "name": "stderr",
     "output_type": "stream",
     "text": [
      "['Emin', 'Emin'] Folds: 10it [00:07,  1.42it/s]\n"
     ]
    },
    {
     "name": "stdout",
     "output_type": "stream",
     "text": [
      "For feature names ['Emin', 'Emin']\n",
      "The mean ROC AUC is 0.8428462808518387\n",
      "The std dev ROC AUC is 0.0028288749692470584\n",
      "The mean coefficients are [[-20.44868222 -20.44868222]]\n",
      "The std dev coefficients are [[0.03809001 0.03809001]]\n",
      "[0.68252298 0.68250846] [0.50001675 0.49998325]\n"
     ]
    },
    {
     "name": "stderr",
     "output_type": "stream",
     "text": [
      "['smiles_1 sa_score'] Folds: 10it [00:02,  4.71it/s]\n"
     ]
    },
    {
     "name": "stdout",
     "output_type": "stream",
     "text": [
      "For feature names ['smiles_1 sa_score']\n",
      "The mean ROC AUC is 0.8899098151851931\n",
      "The std dev ROC AUC is 0.002401955055267746\n",
      "The mean coefficients are [[-2.27638609]]\n",
      "The std dev coefficients are [[0.00357676]]\n",
      "[0.75439838 0.75438596] [0.50001675 0.49998325]\n"
     ]
    },
    {
     "name": "stderr",
     "output_type": "stream",
     "text": [
      "['smiles_1 sa_score', 'Emin'] Folds: 10it [00:08,  1.15it/s]\n"
     ]
    },
    {
     "name": "stdout",
     "output_type": "stream",
     "text": [
      "For feature names ['smiles_1 sa_score', 'Emin']\n",
      "The mean ROC AUC is 0.9117578347477784\n",
      "The std dev ROC AUC is 0.0018265383433587632\n",
      "The mean coefficients are [[ -1.91055107 -24.66812502]]\n",
      "The std dev coefficients are [[0.00388212 0.0766648 ]]\n",
      "[0.82606289 0.82605326] [0.50001675 0.49998325]\n"
     ]
    },
    {
     "name": "stderr",
     "output_type": "stream",
     "text": [
      "['smiles_1 sc_score'] Folds: 10it [00:01,  5.04it/s]\n"
     ]
    },
    {
     "name": "stdout",
     "output_type": "stream",
     "text": [
      "For feature names ['smiles_1 sc_score']\n",
      "The mean ROC AUC is 0.6488217678570067\n",
      "The std dev ROC AUC is 0.00715804323799224\n",
      "The mean coefficients are [[-1.73703619]]\n",
      "The std dev coefficients are [[0.00944541]]\n",
      "[0.35810795 0.35809254] [0.50001675 0.49998325]\n"
     ]
    },
    {
     "name": "stderr",
     "output_type": "stream",
     "text": [
      "['smiles_1 sc_score', 'Emin'] Folds: 10it [00:08,  1.14it/s]\n"
     ]
    },
    {
     "name": "stdout",
     "output_type": "stream",
     "text": [
      "For feature names ['smiles_1 sc_score', 'Emin']\n",
      "The mean ROC AUC is 0.8552153473562703\n",
      "The std dev ROC AUC is 0.0031401701506483274\n",
      "The mean coefficients are [[ -1.45630622 -38.50147922]]\n",
      "The std dev coefficients are [[0.00931659 0.07265438]]\n",
      "[0.69498393 0.69496973] [0.50001675 0.49998325]\n"
     ]
    },
    {
     "name": "stderr",
     "output_type": "stream",
     "text": [
      "['smiles_1 ra_score'] Folds: 10it [00:01,  5.55it/s]\n"
     ]
    },
    {
     "name": "stdout",
     "output_type": "stream",
     "text": [
      "For feature names ['smiles_1 ra_score']\n",
      "The mean ROC AUC is 0.8076192033849405\n",
      "The std dev ROC AUC is 0.004316293264249086\n",
      "The mean coefficients are [[9.09011471]]\n",
      "The std dev coefficients are [[0.04121817]]\n",
      "[0.55038359 0.55036701] [0.50001675 0.49998325]\n"
     ]
    },
    {
     "name": "stderr",
     "output_type": "stream",
     "text": [
      "['smiles_1 ra_score', 'Emin'] Folds: 10it [00:07,  1.29it/s]\n"
     ]
    },
    {
     "name": "stdout",
     "output_type": "stream",
     "text": [
      "For feature names ['smiles_1 ra_score', 'Emin']\n",
      "The mean ROC AUC is 0.8787811080357025\n",
      "The std dev ROC AUC is 0.002561338242785622\n",
      "The mean coefficients are [[  6.87102928 -33.43717272]]\n",
      "The std dev coefficients are [[0.04302317 0.07207243]]\n",
      "[0.73681612 0.73680312] [0.50001675 0.49998325]\n"
     ]
    },
    {
     "name": "stderr",
     "output_type": "stream",
     "text": [
      "['smiles_1 syba_score'] Folds: 10it [00:01,  5.03it/s]\n"
     ]
    },
    {
     "name": "stdout",
     "output_type": "stream",
     "text": [
      "For feature names ['smiles_1 syba_score']\n",
      "The mean ROC AUC is 0.8188101282809537\n",
      "The std dev ROC AUC is 0.0025120050481810255\n",
      "The mean coefficients are [[0.07278361]]\n",
      "The std dev coefficients are [[0.00011716]]\n",
      "[0.63079134 0.63077573] [0.50001675 0.49998325]\n"
     ]
    },
    {
     "name": "stderr",
     "output_type": "stream",
     "text": [
      "['smiles_1 syba_score', 'Emin'] Folds: 10it [00:08,  1.14it/s]"
     ]
    },
    {
     "name": "stdout",
     "output_type": "stream",
     "text": [
      "For feature names ['smiles_1 syba_score', 'Emin']\n",
      "The mean ROC AUC is 0.8977586390463828\n",
      "The std dev ROC AUC is 0.001465299253956221\n",
      "The mean coefficients are [[  0.06156411 -34.3962393 ]]\n",
      "The std dev coefficients are [[9.64811682e-05 6.73725730e-02]]\n",
      "[0.76869977 0.76868786] [0.50001675 0.49998325]\n"
     ]
    },
    {
     "name": "stderr",
     "output_type": "stream",
     "text": [
      "\n"
     ]
    }
   ],
   "source": [
    "for feature_names in feature_names_list:\n",
    "    mean_roc, std_roc, mean_coeff, std_coeff, precision, recall, thresholds = get_ROC_AUC([feature_names])\n",
    "    print(precision, recall)\n",
    "    mean_roc, std_roc, mean_coeff, std_coeff, precision, recall, thresholds = get_ROC_AUC([feature_names,'Emin'])\n",
    "    print(precision, recall)"
   ]
  }
 ],
 "metadata": {
  "kernelspec": {
   "display_name": "my-rdkit-env",
   "language": "python",
   "name": "my-rdkit-env"
  },
  "language_info": {
   "codemirror_mode": {
    "name": "ipython",
    "version": 3
   },
   "file_extension": ".py",
   "mimetype": "text/x-python",
   "name": "python",
   "nbconvert_exporter": "python",
   "pygments_lexer": "ipython3",
   "version": "3.7.13"
  }
 },
 "nbformat": 4,
 "nbformat_minor": 5
}
